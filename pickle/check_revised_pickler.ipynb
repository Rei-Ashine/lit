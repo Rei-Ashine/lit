{
 "cells": [
  {
   "cell_type": "code",
   "execution_count": null,
   "id": "first-encounter",
   "metadata": {},
   "outputs": [],
   "source": [
    "import argparse\n",
    "import csv\n",
    "import itertools\n",
    "import os\n",
    "import os.path\n",
    "\n",
    "import joblib\n",
    "from cyvcf2 import VCF\n",
    "import gzip\n",
    "import re"
   ]
  },
  {
   "cell_type": "code",
   "execution_count": null,
   "id": "transsexual-whole",
   "metadata": {},
   "outputs": [],
   "source": [
    "path_input = \"./data/raw/gnomAD/v2/hg19/gnomad.exomes.r2.1.1.sites.1.vcf.bgz\"\n",
    "#path_input = \"./data/raw/jMorp/hg19/tommo-8.3kjpn-20200831-af_snvall-autosome.vcf.gz\"\n",
    "seq = \"hg19\"\n",
    "path_ref = \"./data/processed/VCF/Columns_gnomAD.txt\"\n",
    "#path_ref = \"./data/processed/VCF/Columns_jMorp.txt\"\n",
    "path_output = \"./data/processed/VCF\""
   ]
  },
  {
   "cell_type": "code",
   "execution_count": null,
   "id": "czech-dominant",
   "metadata": {},
   "outputs": [],
   "source": [
    "# --- Load data file\n",
    "# Input data\n",
    "#path_input = args.input\n",
    "basename = os.path.basename(path_input)\n",
    "print(\"Input vcf file name : {}\".format(os.path.basename(path_input)))\n",
    "with gzip.open(path_input, 'rb') as f:\n",
    "    line = f.readline()\n",
    "    line = line.decode().strip()\n",
    "    vcf_version = line.lstrip(\"##fileformat=\")\n",
    "    print(\"--> VCF version: {}\".format(vcf_version))"
   ]
  },
  {
   "cell_type": "code",
   "execution_count": null,
   "id": "derived-foundation",
   "metadata": {},
   "outputs": [],
   "source": [
    "# Additional data\n",
    "#path_ref = args.ref\n",
    "with open(path_ref, newline=\"\") as f:\n",
    "    reader = csv.reader(f, delimiter=\"\\t\")\n",
    "    column_list = list(reader)\n",
    "vcf_additional = list(itertools.chain.from_iterable(column_list))\n",
    "print(\"Additional vcf column list file name : {}\".format(os.path.basename(path_ref)))"
   ]
  },
  {
   "cell_type": "code",
   "execution_count": null,
   "id": "nervous-rental",
   "metadata": {},
   "outputs": [],
   "source": [
    "def format_str(x):\n",
    "    if x is None:\n",
    "        y = ''\n",
    "    else:\n",
    "        if isinstance(x, list):\n",
    "            if not x:\n",
    "                y = ';'.join(x)\n",
    "            else:\n",
    "                y = ''\n",
    "        else:\n",
    "            y = str(x)\n",
    "    return y"
   ]
  },
  {
   "cell_type": "code",
   "execution_count": null,
   "id": "sixth-reality",
   "metadata": {},
   "outputs": [],
   "source": [
    "def info(record, target, i, out):\n",
    "    x = record.INFO.get(target)\n",
    "    if isinstance(x, list):\n",
    "        check_num = len(x) - 1\n",
    "        if check_num == i:\n",
    "            r = x[i]\n",
    "            out.append(r)\n",
    "        else:\n",
    "            i = check_num - 1\n",
    "            r = x[i]\n",
    "            out.append(r)\n",
    "    else:\n",
    "        out.append(x)\n",
    "    return out"
   ]
  },
  {
   "cell_type": "code",
   "execution_count": null,
   "id": "classified-tower",
   "metadata": {},
   "outputs": [],
   "source": [
    "def picker(variant, vcf_columns):\n",
    "    df = []\n",
    "    # vcf_template\n",
    "    chrom = variant.CHROM\n",
    "    pos = variant.POS\n",
    "    variant_id = variant.ID\n",
    "    ref = variant.REF\n",
    "    alt = variant.ALT\n",
    "    num = len(alt)\n",
    "    for i in range(num):\n",
    "        a = alt[i]\n",
    "        new_record = [chrom, pos, variant_id, ref, a]\n",
    "        new_record = list(map(format_str, new_record))\n",
    "        # vcf_additional\n",
    "        col = vcf_columns[5:]\n",
    "        new_record = [info(variant, str(c), i, new_record) for c in col]\n",
    "        df.append(new_record)\n",
    "    df = [flatten for inner in df for flatten in inner]\n",
    "    return df"
   ]
  },
  {
   "cell_type": "code",
   "execution_count": null,
   "id": "mexican-wholesale",
   "metadata": {},
   "outputs": [],
   "source": [
    "def parse_vcf(vcf_file, vcf_columns, vcf_version):\n",
    "    # For jMorp (allows UTF-8) or gnomAD (ASCII only)\n",
    "    if vcf_version == \"VCFv4.3\" or vcf_version == \"VCFv4.2\":\n",
    "        df = [picker(variant, vcf_columns) for variant in VCF(vcf_file)]\n",
    "        df = [flatten for inner in df for flatten in inner]\n",
    "        df = list(map(list, set(map(tuple, df))))\n",
    "    else:\n",
    "        raise Exception(\"[Error] {} is not verified!\".format(version))\n",
    "    return df"
   ]
  },
  {
   "cell_type": "markdown",
   "id": "noted-museum",
   "metadata": {},
   "source": [
    "---"
   ]
  },
  {
   "cell_type": "code",
   "execution_count": null,
   "id": "understanding-proposal",
   "metadata": {},
   "outputs": [],
   "source": [
    "# --- Parse VCF file\n",
    "print(\"Parsing vcf file...\")\n",
    "vcf_template = ['CHROM', 'POS', 'ID', 'REF', 'ALT']\n",
    "vcf_columns = vcf_template + vcf_additional\n",
    "vcf = parse_vcf(path_input, vcf_columns, vcf_version)"
   ]
  },
  {
   "cell_type": "code",
   "execution_count": null,
   "id": "positive-judge",
   "metadata": {},
   "outputs": [],
   "source": [
    "# --- Convert to DataFrame\n",
    "import pandas as pd\n",
    "vcf = pd.DataFrame(vcf)\n",
    "vcf.columns = vcf_columns"
   ]
  },
  {
   "cell_type": "code",
   "execution_count": null,
   "id": "provincial-bible",
   "metadata": {},
   "outputs": [],
   "source": [
    "vcf.head(10)"
   ]
  },
  {
   "cell_type": "code",
   "execution_count": null,
   "id": "forward-level",
   "metadata": {},
   "outputs": [],
   "source": [
    "# --- Export file\n",
    "# Pickle file\n",
    "print(\"Pickling parsed vcf file...\")\n",
    "pickled_path = \"{0}/{1}/{2}.pkl\".format(path_output, seq, os.path.splitext(basename)[0])\n",
    "joblib.dump(vcf, pickled_path)"
   ]
  },
  {
   "cell_type": "markdown",
   "id": "refined-enzyme",
   "metadata": {},
   "source": [
    "---"
   ]
  },
  {
   "cell_type": "code",
   "execution_count": null,
   "id": "hollywood-glass",
   "metadata": {},
   "outputs": [],
   "source": [
    "import pandas as pd\n",
    "#pickled_input = \"./data/processed/VCF/hg19/gnomad.exomes.r2.1.1.sites.1.vcf.pkl\"\n",
    "vcf_data = joblib.load(pickled_path)\n",
    "vcf_data = pd.DataFrame(vcf_data)\n",
    "vcf_columns = ['CHROM', 'POS', 'ID', 'REF', 'ALT',\n",
    "               'AF', 'AF_MALE', 'AF_FEMALE',\n",
    "               'AC', 'AC_MALE', 'AC_FEMALE',\n",
    "               'AN', 'AN_MALE', 'AN_FEMALE',\n",
    "               'AF_afr', 'AF_amr', 'AF_asj',\n",
    "               'AF_eas', 'AF_fin', 'AF_nfe',\n",
    "               'AF_oth', 'AC_eas', 'AN_eas']\n",
    "vcf_data.columns = vcf_columns\n",
    "vcf_data.head()"
   ]
  },
  {
   "cell_type": "code",
   "execution_count": null,
   "id": "effective-costa",
   "metadata": {},
   "outputs": [],
   "source": []
  }
 ],
 "metadata": {
  "kernelspec": {
   "display_name": "Python 3",
   "language": "python",
   "name": "python3"
  },
  "language_info": {
   "codemirror_mode": {
    "name": "ipython",
    "version": 3
   },
   "file_extension": ".py",
   "mimetype": "text/x-python",
   "name": "python",
   "nbconvert_exporter": "python",
   "pygments_lexer": "ipython3",
   "version": "3.6.12"
  }
 },
 "nbformat": 4,
 "nbformat_minor": 5
}
